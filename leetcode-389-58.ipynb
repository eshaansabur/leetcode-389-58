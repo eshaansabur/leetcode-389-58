{
 "cells": [
  {
   "cell_type": "code",
   "execution_count": 1,
   "id": "9013b0d1-53c6-46ea-a7ce-194f136d58d6",
   "metadata": {},
   "outputs": [
    {
     "data": {
      "text/plain": [
       "'y'"
      ]
     },
     "execution_count": 1,
     "metadata": {},
     "output_type": "execute_result"
    }
   ],
   "source": [
    "s = \"\"\n",
    "t = \"y\"\n",
    "def findTheDifference(s, t):\n",
    "    s_list= list(s)\n",
    "    t_list= list(t)\n",
    "    for i in s_list:\n",
    "        t_list.remove(i)\n",
    "    p= \"\".join(t_list)\n",
    "    return p\n",
    "findTheDifference(s, t)"
   ]
  },
  {
   "cell_type": "code",
   "execution_count": 5,
   "id": "bc121769-e874-4f66-9201-18ffc7b3c099",
   "metadata": {},
   "outputs": [
    {
     "name": "stdout",
     "output_type": "stream",
     "text": [
      "fly me   to   the moon\n"
     ]
    },
    {
     "data": {
      "text/plain": [
       "4"
      ]
     },
     "execution_count": 5,
     "metadata": {},
     "output_type": "execute_result"
    }
   ],
   "source": [
    "s = \"   fly me   to   the moon  \"\n",
    "def lengthOfLastWord(s):\n",
    "    s=s.strip()\n",
    "    print(s)\n",
    "    s_list = s.split(\" \")\n",
    "    s_len= len(s_list)\n",
    "    last_word_len= len(s_list[s_len-1])\n",
    "    return last_word_len\n",
    "lengthOfLastWord(s)"
   ]
  },
  {
   "cell_type": "code",
   "execution_count": null,
   "id": "8a1baf59-35ec-4faf-b683-af1318dbf329",
   "metadata": {},
   "outputs": [],
   "source": []
  }
 ],
 "metadata": {
  "kernelspec": {
   "display_name": "Python 3 (ipykernel)",
   "language": "python",
   "name": "python3"
  },
  "language_info": {
   "codemirror_mode": {
    "name": "ipython",
    "version": 3
   },
   "file_extension": ".py",
   "mimetype": "text/x-python",
   "name": "python",
   "nbconvert_exporter": "python",
   "pygments_lexer": "ipython3",
   "version": "3.11.7"
  }
 },
 "nbformat": 4,
 "nbformat_minor": 5
}
